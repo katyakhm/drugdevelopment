{
 "cells": [
  {
   "cell_type": "markdown",
   "metadata": {
    "id": "z2JDFEs6fnvi"
   },
   "source": [
    "# Transition Lookup creation"
   ]
  },
  {
   "cell_type": "code",
   "execution_count": 2,
   "metadata": {
    "id": "MA_nP5ynbyv0"
   },
   "outputs": [],
   "source": [
    "import numpy as np\n",
    "from sklearn.utils.extmath import cartesian\n",
    "from collections import namedtuple\n",
    "import time\n",
    "#from google.colab import files\n",
    "import io\n",
    "import pandas as pd\n",
    "#from math import prod\n",
    "\n",
    "# Probably inefficient implementation I need because colab is python 3.6\n",
    "def prod(vec):\n",
    "  res = 1\n",
    "  for v in vec:\n",
    "    res *= v\n",
    "  return res\n",
    "\n",
    "def create_market_states(max_firms):\n",
    "  poss_firms = (range(n+1) for n in max_firms)\n",
    "  return np.array(cartesian(poss_firms))\n",
    "\n",
    "def create_all_transitions(market_states, max_firms):\n",
    "  n_stages = len(max_firms)\n",
    "  enter_transitions = [create_transition(market_states, max_firms, -1, i) for i in range(n_stages)]\n",
    "  exit_transitions = [create_transition(market_states, max_firms, i, -1) for i in range(n_stages)]\n",
    "  advance_from_transitions = [create_transition(market_states, max_firms, i, i+1) for i in range(n_stages-1)]\n",
    "  # make them exit after last stage\n",
    "  advance_from_transitions.append(create_transition(market_states, max_firms, n_stages-1, -1))\n",
    "  Transitions = namedtuple('Transitions', ['enter','exit','advance_from'])\n",
    "  return Transitions(enter_transitions, exit_transitions, advance_from_transitions)\n",
    "\n",
    "# Creates a index lookup (for each state!) based on a firm leaving one stage and going to another.  stage == -1 means out of market.\n",
    "# Assumes states are in canonical order. ie [[0,...,0,0], [0,...,0,1],...,[0,...,0,N], [0,...,1,0],...[N,...,N,N]]\n",
    "# Sets index to 0 if the transition is infeasible\n",
    "# Getting the correct index using max_firms=[N0, N1, N2, N3]. If from_stage=0 (first stage), the number of firms in that stage will be decreasing,\n",
    "# so the new state will be \"earlier\". How many states behind is the state that has exactly 1 less firm in from_stage? It's (N1+1)*(N2+1)*(N3+1) behind (plus\n",
    "# 1 is because there are zeros). Call this state state_tmp.\n",
    "# If stage_to is 1, how many states is the new state \"ahead\" from the state_tmp? It's (N2+1)*(N3+1) ahead.\n",
    "# Notice that the function does not distinguish between the impossible transition and the transition to the state [0,0,0,0] (in both cases will give 0)\n",
    "# But as long as the value of the value function at [0, 0, 0, 0] is zero, that should be ok\n",
    "def create_transition(market_states, max_firms, from_stage, to_stage):\n",
    "  n_states = len(market_states)\n",
    "  ix = np.arange(n_states)\n",
    "  possible_transitions = np.ones(n_states, dtype=bool)\n",
    "  if from_stage >= 0:\n",
    "    possible_transitions *= market_states[:, from_stage] > 0\n",
    "    ix -= prod(max_firms[from_stage + 1:] + 1)\n",
    "  if to_stage >= 0:\n",
    "    possible_transitions *= market_states[:, to_stage] < max_firms[to_stage]\n",
    "    ix += prod(max_firms[to_stage + 1:] + 1)\n",
    "  return ix * possible_transitions"
   ]
  },
  {
   "cell_type": "code",
   "execution_count": null,
   "metadata": {},
   "outputs": [],
   "source": []
  },
  {
   "cell_type": "markdown",
   "metadata": {
    "id": "W7dGlzHQYWMN"
   },
   "source": []
  },
  {
   "cell_type": "markdown",
   "metadata": {
    "id": "SYEz2hM9fx9a"
   },
   "source": [
    "# Rates of state changes and corresponding lookups\n",
    "The dynamic programming state variable is (my_stage, market_state).\n",
    "This can change for any number of reasons, opponent enters/exits/advances, or I exit/advance.  These moves can be forced by the system or chosen by the firm.  Regardless, we need to find the expected value received by the firm in the future.  To do this, need to list all possible state transitions and their corresponding probability.\n",
    "\n",
    "Transition rates are the lambdas of exponentials.  When we are drawing form many heterogeneous exponentials, the probability that random variable i is lowest (and hence the first state change to occur) is give by: $\\lambda_i / \\sum(\\lambda_i)$.\n",
    "\n",
    "Finally, since our goal is to iterate to find the value function, we'll need to take each possible transition, find the state it ends up at, the probability of that transition occuring, and then multiply that probability by the expected value of that new state.\n",
    "\n",
    "To do this, most of the following functions return a (transition_lookup, transition_rate) pair.  Both the lookup and the rate are matrices, with one row for each possible state change (similar state changes grouped together).  The lookup gives the indices of the new market state, and the rates give the unnormalized probability of that state change occurring."
   ]
  },
  {
   "cell_type": "code",
   "execution_count": null,
   "metadata": {
    "id": "5UOk4C4Lc39u"
   },
   "outputs": [],
   "source": [
    "# Transitions where this firm exits (no lookup matrix since terminal state)\n",
    "def create_me_forced_exit(market_states, rates, transitions, checks, my_stage):\n",
    "  # Must exit upon bad signal\n",
    "  rate_bad = rates.stage_end[my_stage] * (1 - rates.good_signal[my_stage])\n",
    "  # Must exit on good signal if this is the last stage or next stage is full\n",
    "  rate_good_forced = rates.stage_end[my_stage] * rates.good_signal[my_stage] * checks.invalid_advance_from[:, my_stage]\n",
    "  return LookupRate(lookups=None, rates=(rate_bad + rate_good_forced) * checks.are_firms[:,my_stage])\n",
    "\n",
    "# Transitions where this firm is forced to go to the next stage (stage is exogenous, good signal, valid move).\n",
    "#This will be non-empty only for stage 3 (indexed as 2 in python)\n",
    "def create_me_forced_advance(market_states, rates, transitions, checks, my_stage):\n",
    "  lookups = transitions.advance_from[my_stage].copy()\n",
    "  trans_rates = rates.stage_end[my_stage] * rates.good_signal[my_stage] * checks.valid_advance_from[:, my_stage] * checks.is_exogenous[:,my_stage]\n",
    "  return filter_transition_rates(lookups[None, :], trans_rates[None,:], checks, my_stage)\n",
    "\n",
    "# Transitions where this firm gets to decide on a course of action (stage endogenous, good signal, can move ahead)\n",
    "def create_me_choose(market_states, rates, transitions, checks, my_stage):\n",
    "  trans_rates = rates.stage_end[my_stage] * rates.good_signal[my_stage] * checks.valid_advance_from[:, my_stage] * checks.is_endogenous[:,my_stage]\n",
    "  return LookupRate(lookups=None, rates=trans_rates * checks.are_firms[:,my_stage])\n",
    "\n",
    "# Gets number of competitors is each market_state (subtracts 1 from my stage from each state, assuming there's at least 1 firm.)\n",
    "def get_other_states(market_states, checks, my_stage):\n",
    "  other_states = market_states.copy()\n",
    "  other_states[:, my_stage] -= checks.are_firms[:,my_stage]\n",
    "  return other_states\n",
    "\n",
    "# Transitions where another firm is forced to change states\n",
    "def create_other_forced(market_states, rates, transitions, checks, my_stage):\n",
    "  n_stages = len(market_states[0])\n",
    "  other_states = get_other_states(market_states, checks, my_stage)\n",
    "  lookups = []\n",
    "  trans_rates = []\n",
    "  for i in range(n_stages):\n",
    "    lookups.append(transitions.enter[i].copy())\n",
    "    trans_rates.append(rates.enter[i] * checks.valid_advance_to[:,i])\n",
    "  for i in range(n_stages):\n",
    "    lookups.append(transitions.exit[i].copy())\n",
    "    trans_rates.append(rates.stage_end[i] * other_states[:,i] * (1 - rates.good_signal[i] * checks.valid_advance_from[:,i]))\n",
    "  for i in range(n_stages):\n",
    "    lookups.append(transitions.advance_from[i].copy())\n",
    "    trans_rates.append(rates.stage_end[i] * other_states[:,i] * rates.good_signal[i] * checks.valid_advance_from[:,i] * checks.is_exogenous[:,i])\n",
    "  lookups = np.stack(lookups)\n",
    "  trans_rates = np.stack(trans_rates)\n",
    "  return filter_transition_rates(lookups, trans_rates, checks, my_stage)\n",
    "\n",
    "# Transitions where another firm is endogenously chooses to advance a stage\n",
    "def create_other_advance(market_states, rates, transitions, checks, my_stage):\n",
    "  n_stages = len(market_states[0])\n",
    "  other_states = get_other_states(market_states, checks, my_stage)\n",
    "  lookups = []\n",
    "  trans_rates = []\n",
    "  for i in range(n_stages):\n",
    "    lookups.append(transitions.advance_from[i])\n",
    "    # Note rates will be modulated by the choice probabilities later in the code.\n",
    "    trans_rates.append(rates.stage_end[i] * other_states[:, i] * rates.good_signal[i] * checks.valid_advance_from[:,i] * checks.is_endogenous[:,i])\n",
    "  lookups = np.stack(lookups)\n",
    "  trans_rates = np.stack(trans_rates)\n",
    "  return filter_transition_rates(lookups, trans_rates, checks, my_stage)\n",
    "\n",
    "# Transitions where another firm endogenously chooses to exit the market\n",
    "def create_other_exit(market_states, rates, transitions, checks, my_stage):\n",
    "  n_stages = len(market_states[0])\n",
    "  other_states = get_other_states(market_states, checks, my_stage)\n",
    "  lookups = []\n",
    "  trans_rates = []\n",
    "  for i in range(n_stages):\n",
    "    lookups.append(transitions.exit[i])\n",
    "    # Note rates will be modulated by the choice probabilities later in the code.\n",
    "    trans_rates.append(rates.stage_end[i] * other_states[:, i] * rates.good_signal[i] * checks.valid_advance_from[:,i] * checks.is_endogenous[:,i])\n",
    "  lookups = np.stack(lookups)\n",
    "  trans_rates = np.stack(trans_rates)\n",
    "  return filter_transition_rates(lookups, trans_rates, checks, my_stage)\n",
    "\n",
    "# Helper function for eliminating rows with 0 probability of occurring.\n",
    "LookupRate = namedtuple('LookupRate', ['lookups', 'rates'])\n",
    "def filter_transition_rates(lookups, rates, checks, my_stage):\n",
    "  rates *= checks.are_firms[:, my_stage]\n",
    "  lookups *= rates != 0\n",
    "  total_rates = np.sum(rates, axis=1)\n",
    "  return LookupRate(lookups[total_rates != 0].astype(np.int32), rates[total_rates != 0])"
   ]
  },
  {
   "cell_type": "code",
   "execution_count": null,
   "metadata": {
    "id": "5CdT3uPlKDBG"
   },
   "outputs": [],
   "source": [
    "# Calculate E(max(V + e(1), e(0)))\n",
    "# Theory says that if e's are extreme value distributions, then Expectation = log(1 + exp(V)) + euler_gamma\n",
    "# note that numpy on cpu overflows shortly above exp(700) (GPU even less).  But, log(1 + exp(x)) ~ x when x is large, so will use that approx when x above 700.\n",
    "def expected_choice_value(advance_values, choice_stages, checks):\n",
    "  max_exponent = 700\n",
    "  will_overflow = advance_values > max_exponent\n",
    "  capped_exp = np.minimum(advance_values, max_exponent)\n",
    "  expect_max = will_overflow * (advance_values + np.euler_gamma)\n",
    "  expect_max += (1 - will_overflow) * (np.log(1 + np.exp(capped_exp)) + np.euler_gamma) \n",
    "  expect_max *= checks.are_firms[:, choice_stages].T * checks.valid_advance_from[:, choice_stages].T\n",
    "  return expect_max\n",
    "\n",
    "def calculate_updated_values(values, flow_payoffs, choice_stages, expected_max, discounted_rates, actions, choose_advance_prob):\n",
    "  n_stages = flow_payoffs.shape[1]\n",
    "  other_advance_rates = [actions.other_advance[i].rates * choose_advance_prob for i in range(n_stages)]\n",
    "  other_exit_rates = [actions.other_exit[i].rates * (1 - choose_advance_prob) for i in range(n_stages)]\n",
    "  value_updates = []\n",
    "  for i in range(n_stages):\n",
    "    # Expect to be in state for 1/discounted_rates time\n",
    "    this_state_payoff = flow_payoffs[:,i] / discounted_rates[i]\n",
    "    future_val = (actions.me_forced_exit[i].rates * np.euler_gamma +\n",
    "                  np.sum(actions.other_forced[i].rates * values[i][actions.other_forced[i].lookups], 0) +\n",
    "                  np.sum(other_advance_rates[i] * values[i][actions.other_advance[i].lookups], 0) +\n",
    "                  np.sum(other_exit_rates[i] * values[i][actions.other_exit[i].lookups], 0))\n",
    "    if i in choice_stages:\n",
    "      # TODO: This breaks if endogenous stages aren't the first n stages \n",
    "      future_val += actions.me_choose[i].rates * expected_max[i,:]\n",
    "    if i != n_stages-1:\n",
    "      future_val += np.sum(actions.me_forced_advance[i].rates * (values[i+1][actions.me_forced_advance[i].lookups]), 0)\n",
    "    # Normalize the rates into probabilities\n",
    "    future_val /= discounted_rates[i]\n",
    "    value_updates.append(this_state_payoff + future_val)\n",
    "  return np.stack(value_updates)"
   ]
  },
  {
   "cell_type": "code",
   "execution_count": null,
   "metadata": {
    "colab": {
     "base_uri": "https://localhost:8080/"
    },
    "id": "vLP71OnvCnCg",
    "outputId": "59403de4-1485-4304-e897-0d53663c5697"
   },
   "outputs": [
    {
     "name": "stdout",
     "output_type": "stream",
     "text": [
      "Mounted at /content/gdrive\n"
     ]
    }
   ],
   "source": [
    "#Uploading the parameter file\n",
    "#uploaded = files.upload()\n",
    "\n",
    "#Mounting the google drive instead:\n",
    "from google.colab import drive\n",
    "drive.mount('/content/gdrive')"
   ]
  },
  {
   "cell_type": "code",
   "execution_count": null,
   "metadata": {
    "colab": {
     "base_uri": "https://localhost:8080/",
     "height": 193
    },
    "id": "-jHI7RVPCzvU",
    "outputId": "9d42e79e-3575-4268-bf71-f3286493d912"
   },
   "outputs": [
    {
     "data": {
      "text/html": [
       "\n",
       "  <div id=\"df-e8158e98-be14-464d-a669-5bc2965fb82c\">\n",
       "    <div class=\"colab-df-container\">\n",
       "      <div>\n",
       "<style scoped>\n",
       "    .dataframe tbody tr th:only-of-type {\n",
       "        vertical-align: middle;\n",
       "    }\n",
       "\n",
       "    .dataframe tbody tr th {\n",
       "        vertical-align: top;\n",
       "    }\n",
       "\n",
       "    .dataframe thead th {\n",
       "        text-align: right;\n",
       "    }\n",
       "</style>\n",
       "<table border=\"1\" class=\"dataframe\">\n",
       "  <thead>\n",
       "    <tr style=\"text-align: right;\">\n",
       "      <th></th>\n",
       "      <th>index</th>\n",
       "      <th>Indication</th>\n",
       "      <th>indications_num</th>\n",
       "      <th>p_1</th>\n",
       "      <th>p_2</th>\n",
       "      <th>p_3</th>\n",
       "      <th>n_start_1</th>\n",
       "      <th>n_start_2</th>\n",
       "      <th>n_start_3</th>\n",
       "      <th>n_start_4</th>\n",
       "      <th>max_in_1</th>\n",
       "      <th>max_in_2</th>\n",
       "      <th>max_in_3</th>\n",
       "      <th>max_in_4</th>\n",
       "      <th>state_space_final</th>\n",
       "      <th>to_use</th>\n",
       "      <th>c_2</th>\n",
       "      <th>c_3</th>\n",
       "      <th>theta_0</th>\n",
       "      <th>theta_r</th>\n",
       "      <th>theta_s</th>\n",
       "      <th>stageduration_1_years</th>\n",
       "      <th>stageduration_2_years</th>\n",
       "      <th>stageduration_3_years</th>\n",
       "      <th>stageduration_4_years</th>\n",
       "      <th>years_till_generic</th>\n",
       "      <th>entryduration_1_years</th>\n",
       "      <th>entryduration_2_years</th>\n",
       "      <th>entryduration_3_years</th>\n",
       "      <th>entryduration_4_years</th>\n",
       "      <th>rho</th>\n",
       "      <th>marketsize</th>\n",
       "      <th>batch</th>\n",
       "    </tr>\n",
       "  </thead>\n",
       "  <tbody>\n",
       "    <tr>\n",
       "      <th>0</th>\n",
       "      <td>22</td>\n",
       "      <td>Parkinsons disease</td>\n",
       "      <td>23</td>\n",
       "      <td>0.223967</td>\n",
       "      <td>0.239803</td>\n",
       "      <td>0.844828</td>\n",
       "      <td>33</td>\n",
       "      <td>5</td>\n",
       "      <td>2</td>\n",
       "      <td>3</td>\n",
       "      <td>247</td>\n",
       "      <td>48</td>\n",
       "      <td>12</td>\n",
       "      <td>26</td>\n",
       "      <td>4265352.0</td>\n",
       "      <td>1</td>\n",
       "      <td>-0.04981</td>\n",
       "      <td>-0.055226</td>\n",
       "      <td>2.401461</td>\n",
       "      <td>0.006612</td>\n",
       "      <td>-0.634954</td>\n",
       "      <td>8.232080</td>\n",
       "      <td>7.805088</td>\n",
       "      <td>2.308219</td>\n",
       "      <td>170.640455</td>\n",
       "      <td>20</td>\n",
       "      <td>0.057076</td>\n",
       "      <td>0.658048</td>\n",
       "      <td>9.089372</td>\n",
       "      <td>158.150685</td>\n",
       "      <td>0.077962</td>\n",
       "      <td>111.112638</td>\n",
       "      <td>5</td>\n",
       "    </tr>\n",
       "    <tr>\n",
       "      <th>1</th>\n",
       "      <td>26</td>\n",
       "      <td>Schizophrenia</td>\n",
       "      <td>27</td>\n",
       "      <td>0.221569</td>\n",
       "      <td>0.385153</td>\n",
       "      <td>0.844828</td>\n",
       "      <td>22</td>\n",
       "      <td>4</td>\n",
       "      <td>2</td>\n",
       "      <td>3</td>\n",
       "      <td>93</td>\n",
       "      <td>44</td>\n",
       "      <td>12</td>\n",
       "      <td>34</td>\n",
       "      <td>1924650.0</td>\n",
       "      <td>1</td>\n",
       "      <td>-0.04981</td>\n",
       "      <td>-0.055226</td>\n",
       "      <td>2.401461</td>\n",
       "      <td>0.006612</td>\n",
       "      <td>-0.634954</td>\n",
       "      <td>5.058969</td>\n",
       "      <td>6.240396</td>\n",
       "      <td>1.682192</td>\n",
       "      <td>170.640455</td>\n",
       "      <td>20</td>\n",
       "      <td>0.090750</td>\n",
       "      <td>0.548834</td>\n",
       "      <td>9.089372</td>\n",
       "      <td>158.150685</td>\n",
       "      <td>0.077962</td>\n",
       "      <td>236.818813</td>\n",
       "      <td>5</td>\n",
       "    </tr>\n",
       "  </tbody>\n",
       "</table>\n",
       "</div>\n",
       "      <button class=\"colab-df-convert\" onclick=\"convertToInteractive('df-e8158e98-be14-464d-a669-5bc2965fb82c')\"\n",
       "              title=\"Convert this dataframe to an interactive table.\"\n",
       "              style=\"display:none;\">\n",
       "        \n",
       "  <svg xmlns=\"http://www.w3.org/2000/svg\" height=\"24px\"viewBox=\"0 0 24 24\"\n",
       "       width=\"24px\">\n",
       "    <path d=\"M0 0h24v24H0V0z\" fill=\"none\"/>\n",
       "    <path d=\"M18.56 5.44l.94 2.06.94-2.06 2.06-.94-2.06-.94-.94-2.06-.94 2.06-2.06.94zm-11 1L8.5 8.5l.94-2.06 2.06-.94-2.06-.94L8.5 2.5l-.94 2.06-2.06.94zm10 10l.94 2.06.94-2.06 2.06-.94-2.06-.94-.94-2.06-.94 2.06-2.06.94z\"/><path d=\"M17.41 7.96l-1.37-1.37c-.4-.4-.92-.59-1.43-.59-.52 0-1.04.2-1.43.59L10.3 9.45l-7.72 7.72c-.78.78-.78 2.05 0 2.83L4 21.41c.39.39.9.59 1.41.59.51 0 1.02-.2 1.41-.59l7.78-7.78 2.81-2.81c.8-.78.8-2.07 0-2.86zM5.41 20L4 18.59l7.72-7.72 1.47 1.35L5.41 20z\"/>\n",
       "  </svg>\n",
       "      </button>\n",
       "      \n",
       "  <style>\n",
       "    .colab-df-container {\n",
       "      display:flex;\n",
       "      flex-wrap:wrap;\n",
       "      gap: 12px;\n",
       "    }\n",
       "\n",
       "    .colab-df-convert {\n",
       "      background-color: #E8F0FE;\n",
       "      border: none;\n",
       "      border-radius: 50%;\n",
       "      cursor: pointer;\n",
       "      display: none;\n",
       "      fill: #1967D2;\n",
       "      height: 32px;\n",
       "      padding: 0 0 0 0;\n",
       "      width: 32px;\n",
       "    }\n",
       "\n",
       "    .colab-df-convert:hover {\n",
       "      background-color: #E2EBFA;\n",
       "      box-shadow: 0px 1px 2px rgba(60, 64, 67, 0.3), 0px 1px 3px 1px rgba(60, 64, 67, 0.15);\n",
       "      fill: #174EA6;\n",
       "    }\n",
       "\n",
       "    [theme=dark] .colab-df-convert {\n",
       "      background-color: #3B4455;\n",
       "      fill: #D2E3FC;\n",
       "    }\n",
       "\n",
       "    [theme=dark] .colab-df-convert:hover {\n",
       "      background-color: #434B5C;\n",
       "      box-shadow: 0px 1px 3px 1px rgba(0, 0, 0, 0.15);\n",
       "      filter: drop-shadow(0px 1px 2px rgba(0, 0, 0, 0.3));\n",
       "      fill: #FFFFFF;\n",
       "    }\n",
       "  </style>\n",
       "\n",
       "      <script>\n",
       "        const buttonEl =\n",
       "          document.querySelector('#df-e8158e98-be14-464d-a669-5bc2965fb82c button.colab-df-convert');\n",
       "        buttonEl.style.display =\n",
       "          google.colab.kernel.accessAllowed ? 'block' : 'none';\n",
       "\n",
       "        async function convertToInteractive(key) {\n",
       "          const element = document.querySelector('#df-e8158e98-be14-464d-a669-5bc2965fb82c');\n",
       "          const dataTable =\n",
       "            await google.colab.kernel.invokeFunction('convertToInteractive',\n",
       "                                                     [key], {});\n",
       "          if (!dataTable) return;\n",
       "\n",
       "          const docLinkHtml = 'Like what you see? Visit the ' +\n",
       "            '<a target=\"_blank\" href=https://colab.research.google.com/notebooks/data_table.ipynb>data table notebook</a>'\n",
       "            + ' to learn more about interactive tables.';\n",
       "          element.innerHTML = '';\n",
       "          dataTable['output_type'] = 'display_data';\n",
       "          await google.colab.output.renderOutput(dataTable, element);\n",
       "          const docLink = document.createElement('div');\n",
       "          docLink.innerHTML = docLinkHtml;\n",
       "          element.appendChild(docLink);\n",
       "        }\n",
       "      </script>\n",
       "    </div>\n",
       "  </div>\n",
       "  "
      ],
      "text/plain": [
       "   index          Indication  indications_num  ...       rho  marketsize  batch\n",
       "0     22  Parkinsons disease               23  ...  0.077962  111.112638      5\n",
       "1     26       Schizophrenia               27  ...  0.077962  236.818813      5\n",
       "\n",
       "[2 rows x 33 columns]"
      ]
     },
     "execution_count": 6,
     "metadata": {},
     "output_type": "execute_result"
    }
   ],
   "source": [
    "#Importing the parameter file\n",
    "#df_params = pd.read_csv(io.BytesIO(uploaded['params_for_counterfactual_all.csv']))\n",
    "\n",
    "#Loading params from the drive:\n",
    "params_file = 'params_for_counterfactual_all_3.csv'\n",
    "path = F\"/content/gdrive/My Drive/DrugDevelopment_ModelSolution/params/{params_file}\"\n",
    "#model.load_state_dict(torch.load(path))\n",
    "df_params = pd.read_csv(path)\n",
    "df_params = df_params[df_params['batch']==5]\n",
    "df_params = df_params.reset_index()\n",
    "df_params"
   ]
  },
  {
   "cell_type": "code",
   "execution_count": null,
   "metadata": {
    "id": "d6Rh6WtjGZXQ"
   },
   "outputs": [],
   "source": [
    "# max_firms = np.array([0,0,0,0])\n",
    "# max_firms[0]\n",
    "# n_stages = 4\n",
    "\n",
    "# index=0\n",
    "# max_firms = np.array([0,0,0,0])\n",
    "# for i in range(4):\n",
    "#   name='max_in_'+str(i+1)\n",
    "#   max_firms[i]=df_params.loc[index][name]\n",
    "\n",
    "# max_firms\n",
    "\n",
    "# df_params.loc[index]['c_2']\n",
    "# df_params.loc[index]['indications_num']"
   ]
  },
  {
   "cell_type": "code",
   "execution_count": null,
   "metadata": {
    "id": "Sk7IznPO--iw"
   },
   "outputs": [],
   "source": [
    "n_stages = 4\n",
    "\n",
    "\n",
    "p_increase_1=0.01\n",
    "p_increase_2=0\n",
    "\n",
    "c_2_decrease_percent=0\n",
    "\n",
    "tax_percent=0\n",
    "\n",
    "is_choice_stage = np.array([True, True, False, False])\n",
    "choice_stages = np.array([0,1])\n",
    "\n",
    "start_time = time.time()\n",
    "\n",
    "index=0\n",
    "#for index in range(df_params.shape[0]):\n",
    "max_firms = np.array([0,0,0,0])\n",
    "\n",
    "indication_number=df_params.loc[index]['indications_num']\n",
    "\n",
    "for i in range(4):\n",
    "  name='max_in_'+str(i+1)\n",
    "  max_firms[i]=df_params.loc[index][name]\n",
    "\n",
    "flow_costs = np.array([0, \n",
    "                        (1-c_2_decrease_percent)*df_params.loc[index]['c_2'], \n",
    "                        df_params.loc[index]['c_3'], \n",
    "                        0])\n",
    "jump_costs = np.array([0, 0])\n",
    "theta_0 = (1-tax_percent)*np.array([0, 0, 0, df_params.loc[index]['theta_0']])\n",
    "theta_r = (1-tax_percent)*np.array([0, 0, 0, df_params.loc[index]['theta_r']])\n",
    "theta_s = (1-tax_percent)*np.array([0, 0, 0, df_params.loc[index]['theta_s']])\n",
    "\n",
    "#Entry of generics is introduced through increaing the discount rate\n",
    "#when the firm is on the market (as in the value function iteration they are equivalent\n",
    "# and both enter only through the denominator that contains the sum of all the rates)\n",
    "#Rate for generics = discount rate on the market - discount rate at other stages\n",
    "disc_rate_4=df_params.loc[index]['rho']+1/df_params.loc[index]['years_till_generic']\n",
    "discount_rates = np.array([df_params.loc[index]['rho'], df_params.loc[index]['rho'], df_params.loc[index]['rho'], disc_rate_4])\n",
    "\n",
    "market_states = create_market_states(max_firms)\n",
    "n_states = len(market_states)\n",
    "\n",
    "at_max_firms = market_states >= max_firms\n",
    "# If the next stage is full, firms who might otherwise advance are forced to exit\n",
    "invalid_advance_from = np.append(at_max_firms[:,1:], np.ones((n_states, 1), dtype=bool), axis=1)\n",
    "Checks = namedtuple(\"Checks\", ['are_firms', 'valid_advance_to', 'valid_advance_from', 'invalid_advance_from', 'is_endogenous', 'is_exogenous'])\n",
    "checks = Checks(market_states > 0,\n",
    "                market_states < max_firms,\n",
    "                (1-invalid_advance_from).astype(bool),\n",
    "                invalid_advance_from,\n",
    "                np.ones_like(market_states, dtype=bool) * is_choice_stage,\n",
    "                np.ones_like(market_states, dtype=bool) * (1-is_choice_stage).astype(bool))\n",
    "\n",
    "transitions = create_all_transitions(market_states, max_firms)\n",
    "\n",
    "market_size = df_params.loc[index]['marketsize']\n",
    "\n",
    "Rates = namedtuple(\"Rates\", ['stage_end', 'enter', 'good_signal'])\n",
    "#When solving the original model, I will include the exogenous entry for stages 1, 2, 3 \n",
    "rates = Rates(np.array([1/df_params.loc[index]['stageduration_1_years'], \n",
    "                        1/df_params.loc[index]['stageduration_2_years'], \n",
    "                        1/df_params.loc[index]['stageduration_3_years'], \n",
    "                        1/df_params.loc[index]['stageduration_4_years']]),\n",
    "              np.array([1/df_params.loc[index]['entryduration_1_years'], \n",
    "                        1/df_params.loc[index]['entryduration_2_years'], \n",
    "                        1/df_params.loc[index]['entryduration_3_years'], \n",
    "                        0]),\n",
    "              np.array([df_params.loc[index]['p_1']+p_increase_1, \n",
    "                        df_params.loc[index]['p_2']+p_increase_2, \n",
    "                        df_params.loc[index]['p_3'], \n",
    "                        0]))\n",
    "\n",
    "Actions = namedtuple(\"Actions\", ['me_forced_exit', 'me_forced_advance', 'me_choose', 'other_forced', 'other_advance', 'other_exit'])\n",
    "actions = Actions(me_forced_exit = [create_me_forced_exit(market_states, rates, transitions, checks, i) for i in range(n_stages)],\n",
    "                  me_forced_advance = [create_me_forced_advance(market_states, rates, transitions, checks, i)for i in range(n_stages)],\n",
    "                  me_choose = [create_me_choose(market_states, rates, transitions, checks, i)for i in range(n_stages)],\n",
    "                  other_forced = [create_other_forced(market_states, rates, transitions, checks, i)for i in range(n_stages)],\n",
    "                  other_advance = [create_other_advance(market_states, rates, transitions, checks, i)for i in range(n_stages)],\n",
    "                  other_exit = [create_other_exit(market_states, rates, transitions, checks, i)for i in range(n_stages)])\n",
    "\n",
    "rate_state_change = np.sum(rates.enter * checks.valid_advance_to, axis=1) + np.sum(rates.stage_end * market_states, axis=1)\n",
    "discounted_rates = [rate_state_change + discount_rate for discount_rate in discount_rates]\n",
    "flow_payoffs = checks.are_firms * (flow_costs + theta_0 +\n",
    "                                  theta_r * np.log(market_size) +\n",
    "                                  theta_s * np.log(1 + market_states))\n",
    "\n",
    "# values = np.ones((n_stages, n_states)) * 100 * checks.are_firms.T\n",
    "# choose_advance_prob_old = np.zeros((len(choice_stages), n_states))\n",
    "# tol_vf = 0.01\n",
    "# tol_ccp = 0.00001\n",
    "# it = 0\n",
    "# max_it = 10000\n",
    "# norm_vf = 1\n",
    "# norm_ccp = 1\n",
    "# learning_rate = 1\n",
    "# while (it < max_it) and (norm_vf > tol_vf or norm_ccp > tol_ccp):\n",
    "#   # Expected value from advancing (ignoring error)\n",
    "#   advance_values = np.array([jump_costs[i] + values[i+1, transitions.advance_from[i]] for i in choice_stages] )\n",
    "#   # Probability this firm would choose to advance (accounting for error from extreme value dist)\n",
    "#   choose_advance_prob = np.stack([checks.are_firms[:,choice_stages[i]] * 1 / (1 + np.exp(-advance_values[i])) for i in range(len(choice_stages))])\n",
    "#   expected_max = expected_choice_value(advance_values, choice_stages, checks)\n",
    "#   updated_values = calculate_updated_values(values, flow_payoffs, choice_stages, expected_max, discounted_rates, actions, choose_advance_prob)\n",
    "\n",
    "#   norm_ccp = np.max(np.abs(choose_advance_prob_old - choose_advance_prob))\n",
    "#   norm_vf = np.max(np.abs(values - updated_values))\n",
    "#   choose_advance_prob_old = choose_advance_prob\n",
    "#   values = values + learning_rate * (updated_values - values)\n",
    "#   it += 1\n",
    "# print(index, it)\n",
    "# values=np.transpose(values)\n",
    "# choose_advance_prob_old=np.transpose(choose_advance_prob_old)\n",
    "#filename_1='ctps_p1plus1_indication_'+str(indication_number)+'_2.txt'\n",
    "#path_1 = F\"/content/gdrive/My Drive/DrugDevelopment_ModelSolution/{filename_1}\"\n",
    "#np.savetxt(path_1, choose_advance_prob_old, delimiter='\\t')\n",
    "#filename_2='vs_p1plus1_indication_'+str(indication_number)+'_2.txt'\n",
    "#path_2 = F\"/content/gdrive/My Drive/DrugDevelopment_ModelSolution/{filename_2}\"\n",
    "#np.savetxt(path_2, values, delimiter='\\t')\n",
    "#files.download(filename_2)\n",
    "#print(sign, rep, it)\n",
    "# elapsed_time = time.time() - start_time\n",
    "\n"
   ]
  },
  {
   "cell_type": "code",
   "execution_count": null,
   "metadata": {
    "colab": {
     "base_uri": "https://localhost:8080/"
    },
    "id": "1mcpq7V0JddR",
    "outputId": "957e64fc-a576-4a4d-ad07-cf44901b0a45"
   },
   "outputs": [
    {
     "data": {
      "text/plain": [
       "array([0.        , 0.        , 0.        , 0.03114541])"
      ]
     },
     "execution_count": 16,
     "metadata": {},
     "output_type": "execute_result"
    }
   ],
   "source": [
    "theta_r*np.log(market_size)"
   ]
  },
  {
   "cell_type": "code",
   "execution_count": null,
   "metadata": {
    "colab": {
     "base_uri": "https://localhost:8080/"
    },
    "id": "mYjYXIzTRgSB",
    "outputId": "a0d7cc69-b970-4467-e892-28562d7909da"
   },
   "outputs": [
    {
     "data": {
      "text/plain": [
       "array([0.        , 0.        , 0.        , 0.00661185])"
      ]
     },
     "execution_count": 17,
     "metadata": {},
     "output_type": "execute_result"
    }
   ],
   "source": [
    "theta_r"
   ]
  },
  {
   "cell_type": "code",
   "execution_count": null,
   "metadata": {
    "id": "_EjaXgj8Rh7P"
   },
   "outputs": [],
   "source": []
  },
  {
   "cell_type": "code",
   "execution_count": null,
   "metadata": {
    "colab": {
     "base_uri": "https://localhost:8080/"
    },
    "id": "U7JGRoPJRbXW",
    "outputId": "abbf1683-51e2-4d81-faf7-fe5502cda57f"
   },
   "outputs": [
    {
     "data": {
      "text/plain": [
       "array([0.        , 0.        , 0.        , 0.73466009])"
      ]
     },
     "execution_count": 15,
     "metadata": {},
     "output_type": "execute_result"
    }
   ],
   "source": [
    "theta_r*market_size"
   ]
  },
  {
   "cell_type": "code",
   "execution_count": null,
   "metadata": {
    "id": "ErMp6zwPRfP-"
   },
   "outputs": [],
   "source": []
  },
  {
   "cell_type": "code",
   "execution_count": null,
   "metadata": {
    "id": "6AAgycekRZ1r"
   },
   "outputs": [],
   "source": []
  },
  {
   "cell_type": "code",
   "execution_count": null,
   "metadata": {
    "id": "GUNv893ZRX8Z"
   },
   "outputs": [],
   "source": []
  },
  {
   "cell_type": "code",
   "execution_count": null,
   "metadata": {
    "id": "7Zv_jXp-J7Fq"
   },
   "outputs": [],
   "source": []
  },
  {
   "cell_type": "code",
   "execution_count": null,
   "metadata": {
    "colab": {
     "base_uri": "https://localhost:8080/",
     "height": 17
    },
    "id": "TKNpvC2GptJO",
    "outputId": "8bb3cbf3-2c8a-41c6-e51b-28ef36c518c8"
   },
   "outputs": [
    {
     "data": {
      "application/javascript": [
       "\n",
       "    async function download(id, filename, size) {\n",
       "      if (!google.colab.kernel.accessAllowed) {\n",
       "        return;\n",
       "      }\n",
       "      const div = document.createElement('div');\n",
       "      const label = document.createElement('label');\n",
       "      label.textContent = `Downloading \"${filename}\": `;\n",
       "      div.appendChild(label);\n",
       "      const progress = document.createElement('progress');\n",
       "      progress.max = size;\n",
       "      div.appendChild(progress);\n",
       "      document.body.appendChild(div);\n",
       "\n",
       "      const buffers = [];\n",
       "      let downloaded = 0;\n",
       "\n",
       "      const channel = await google.colab.kernel.comms.open(id);\n",
       "      // Send a message to notify the kernel that we're ready.\n",
       "      channel.send({})\n",
       "\n",
       "      for await (const message of channel.messages) {\n",
       "        // Send a message to notify the kernel that we're ready.\n",
       "        channel.send({})\n",
       "        if (message.buffers) {\n",
       "          for (const buffer of message.buffers) {\n",
       "            buffers.push(buffer);\n",
       "            downloaded += buffer.byteLength;\n",
       "            progress.value = downloaded;\n",
       "          }\n",
       "        }\n",
       "      }\n",
       "      const blob = new Blob(buffers, {type: 'application/binary'});\n",
       "      const a = document.createElement('a');\n",
       "      a.href = window.URL.createObjectURL(blob);\n",
       "      a.download = filename;\n",
       "      div.appendChild(a);\n",
       "      a.click();\n",
       "      div.remove();\n",
       "    }\n",
       "  "
      ],
      "text/plain": [
       "<IPython.core.display.Javascript object>"
      ]
     },
     "metadata": {
      "tags": []
     },
     "output_type": "display_data"
    },
    {
     "data": {
      "application/javascript": [
       "download(\"download_504b1ab7-4386-4565-a01a-692b8380e634\", \"ctps_p2plus10pp_indication_9.txt\", 128955750)"
      ],
      "text/plain": [
       "<IPython.core.display.Javascript object>"
      ]
     },
     "metadata": {
      "tags": []
     },
     "output_type": "display_data"
    },
    {
     "data": {
      "application/javascript": [
       "\n",
       "    async function download(id, filename, size) {\n",
       "      if (!google.colab.kernel.accessAllowed) {\n",
       "        return;\n",
       "      }\n",
       "      const div = document.createElement('div');\n",
       "      const label = document.createElement('label');\n",
       "      label.textContent = `Downloading \"${filename}\": `;\n",
       "      div.appendChild(label);\n",
       "      const progress = document.createElement('progress');\n",
       "      progress.max = size;\n",
       "      div.appendChild(progress);\n",
       "      document.body.appendChild(div);\n",
       "\n",
       "      const buffers = [];\n",
       "      let downloaded = 0;\n",
       "\n",
       "      const channel = await google.colab.kernel.comms.open(id);\n",
       "      // Send a message to notify the kernel that we're ready.\n",
       "      channel.send({})\n",
       "\n",
       "      for await (const message of channel.messages) {\n",
       "        // Send a message to notify the kernel that we're ready.\n",
       "        channel.send({})\n",
       "        if (message.buffers) {\n",
       "          for (const buffer of message.buffers) {\n",
       "            buffers.push(buffer);\n",
       "            downloaded += buffer.byteLength;\n",
       "            progress.value = downloaded;\n",
       "          }\n",
       "        }\n",
       "      }\n",
       "      const blob = new Blob(buffers, {type: 'application/binary'});\n",
       "      const a = document.createElement('a');\n",
       "      a.href = window.URL.createObjectURL(blob);\n",
       "      a.download = filename;\n",
       "      div.appendChild(a);\n",
       "      a.click();\n",
       "      div.remove();\n",
       "    }\n",
       "  "
      ],
      "text/plain": [
       "<IPython.core.display.Javascript object>"
      ]
     },
     "metadata": {
      "tags": []
     },
     "output_type": "display_data"
    },
    {
     "data": {
      "application/javascript": [
       "download(\"download_5d468f11-9a14-420f-93b0-423149652998\", \"vs_p2plus10pp_indication_9.txt\", 258043039)"
      ],
      "text/plain": [
       "<IPython.core.display.Javascript object>"
      ]
     },
     "metadata": {
      "tags": []
     },
     "output_type": "display_data"
    },
    {
     "data": {
      "application/javascript": [
       "\n",
       "    async function download(id, filename, size) {\n",
       "      if (!google.colab.kernel.accessAllowed) {\n",
       "        return;\n",
       "      }\n",
       "      const div = document.createElement('div');\n",
       "      const label = document.createElement('label');\n",
       "      label.textContent = `Downloading \"${filename}\": `;\n",
       "      div.appendChild(label);\n",
       "      const progress = document.createElement('progress');\n",
       "      progress.max = size;\n",
       "      div.appendChild(progress);\n",
       "      document.body.appendChild(div);\n",
       "\n",
       "      const buffers = [];\n",
       "      let downloaded = 0;\n",
       "\n",
       "      const channel = await google.colab.kernel.comms.open(id);\n",
       "      // Send a message to notify the kernel that we're ready.\n",
       "      channel.send({})\n",
       "\n",
       "      for await (const message of channel.messages) {\n",
       "        // Send a message to notify the kernel that we're ready.\n",
       "        channel.send({})\n",
       "        if (message.buffers) {\n",
       "          for (const buffer of message.buffers) {\n",
       "            buffers.push(buffer);\n",
       "            downloaded += buffer.byteLength;\n",
       "            progress.value = downloaded;\n",
       "          }\n",
       "        }\n",
       "      }\n",
       "      const blob = new Blob(buffers, {type: 'application/binary'});\n",
       "      const a = document.createElement('a');\n",
       "      a.href = window.URL.createObjectURL(blob);\n",
       "      a.download = filename;\n",
       "      div.appendChild(a);\n",
       "      a.click();\n",
       "      div.remove();\n",
       "    }\n",
       "  "
      ],
      "text/plain": [
       "<IPython.core.display.Javascript object>"
      ]
     },
     "metadata": {
      "tags": []
     },
     "output_type": "display_data"
    },
    {
     "data": {
      "application/javascript": [
       "download(\"download_92027ff1-d456-4dde-9353-5abee662cd64\", \"ctps_p2plus10pp_indication_10.txt\", 136078800)"
      ],
      "text/plain": [
       "<IPython.core.display.Javascript object>"
      ]
     },
     "metadata": {
      "tags": []
     },
     "output_type": "display_data"
    },
    {
     "data": {
      "application/javascript": [
       "\n",
       "    async function download(id, filename, size) {\n",
       "      if (!google.colab.kernel.accessAllowed) {\n",
       "        return;\n",
       "      }\n",
       "      const div = document.createElement('div');\n",
       "      const label = document.createElement('label');\n",
       "      label.textContent = `Downloading \"${filename}\": `;\n",
       "      div.appendChild(label);\n",
       "      const progress = document.createElement('progress');\n",
       "      progress.max = size;\n",
       "      div.appendChild(progress);\n",
       "      document.body.appendChild(div);\n",
       "\n",
       "      const buffers = [];\n",
       "      let downloaded = 0;\n",
       "\n",
       "      const channel = await google.colab.kernel.comms.open(id);\n",
       "      // Send a message to notify the kernel that we're ready.\n",
       "      channel.send({})\n",
       "\n",
       "      for await (const message of channel.messages) {\n",
       "        // Send a message to notify the kernel that we're ready.\n",
       "        channel.send({})\n",
       "        if (message.buffers) {\n",
       "          for (const buffer of message.buffers) {\n",
       "            buffers.push(buffer);\n",
       "            downloaded += buffer.byteLength;\n",
       "            progress.value = downloaded;\n",
       "          }\n",
       "        }\n",
       "      }\n",
       "      const blob = new Blob(buffers, {type: 'application/binary'});\n",
       "      const a = document.createElement('a');\n",
       "      a.href = window.URL.createObjectURL(blob);\n",
       "      a.download = filename;\n",
       "      div.appendChild(a);\n",
       "      a.click();\n",
       "      div.remove();\n",
       "    }\n",
       "  "
      ],
      "text/plain": [
       "<IPython.core.display.Javascript object>"
      ]
     },
     "metadata": {
      "tags": []
     },
     "output_type": "display_data"
    },
    {
     "data": {
      "application/javascript": [
       "download(\"download_76f2da60-b19e-45c9-bd9d-49dee32b8a0e\", \"vs_p2plus10pp_indication_10.txt\", 272157600)"
      ],
      "text/plain": [
       "<IPython.core.display.Javascript object>"
      ]
     },
     "metadata": {
      "tags": []
     },
     "output_type": "display_data"
    }
   ],
   "source": [
    "# for index in range(2):\n",
    "#   indication_number=df_params.loc[index]['indications_num']\n",
    "#   files.download('ctps_p2plus10pp_indication_'+str(indication_number)+'.txt')\n",
    "#   files.download('vs_p2plus10pp_indication_'+str(indication_number)+'.txt')"
   ]
  },
  {
   "cell_type": "code",
   "execution_count": null,
   "metadata": {
    "colab": {
     "base_uri": "https://localhost:8080/",
     "height": 34
    },
    "id": "oet2thaWCjpY",
    "outputId": "08a7f84f-2ed9-4758-de28-2ea303a38906"
   },
   "outputs": [
    {
     "data": {
      "text/plain": [
       "[1]"
      ]
     },
     "execution_count": 12,
     "metadata": {
      "tags": []
     },
     "output_type": "execute_result"
    }
   ],
   "source": [
    "list(range(1,df_params.shape[0]))"
   ]
  },
  {
   "cell_type": "code",
   "execution_count": null,
   "metadata": {
    "id": "LV5D0w-PChzu"
   },
   "outputs": [],
   "source": []
  },
  {
   "cell_type": "code",
   "execution_count": null,
   "metadata": {
    "id": "yyu-xgUODt4F"
   },
   "outputs": [],
   "source": []
  },
  {
   "cell_type": "code",
   "execution_count": null,
   "metadata": {
    "colab": {
     "base_uri": "https://localhost:8080/",
     "height": 34
    },
    "id": "rLeUczwtduQy",
    "outputId": "75d84ccd-994a-452b-b9f7-bb7c708401c2"
   },
   "outputs": [
    {
     "data": {
      "text/plain": [
       "[2, 3]"
      ]
     },
     "execution_count": 2,
     "metadata": {
      "tags": []
     },
     "output_type": "execute_result"
    }
   ],
   "source": [
    "list(range(2,4))"
   ]
  },
  {
   "cell_type": "code",
   "execution_count": null,
   "metadata": {
    "id": "zCKAWLZq7W4f"
   },
   "outputs": [],
   "source": []
  }
 ],
 "metadata": {
  "colab": {
   "collapsed_sections": [],
   "machine_shape": "hm",
   "name": "Copy 3 of value_iteration_latest_2.ipynb",
   "provenance": []
  },
  "kernelspec": {
   "display_name": "Python 3 (ipykernel)",
   "language": "python",
   "name": "python3"
  },
  "language_info": {
   "codemirror_mode": {
    "name": "ipython",
    "version": 3
   },
   "file_extension": ".py",
   "mimetype": "text/x-python",
   "name": "python",
   "nbconvert_exporter": "python",
   "pygments_lexer": "ipython3",
   "version": "3.9.7"
  }
 },
 "nbformat": 4,
 "nbformat_minor": 1
}
